{
 "cells": [
  {
   "cell_type": "code",
   "execution_count": 28,
   "metadata": {},
   "outputs": [],
   "source": [
    "from dataset import final_data\n",
    "import ipywidgets as widgets        # pip install ipywidgets\n",
    "from IPython.display import display, clear_output"
   ]
  },
  {
   "cell_type": "code",
   "execution_count": null,
   "metadata": {},
   "outputs": [
    {
     "data": {
      "application/vnd.jupyter.widget-view+json": {
       "model_id": "1c6c90da1318463e97725cf7c3487f62",
       "version_major": 2,
       "version_minor": 0
      },
      "text/plain": [
       "Dropdown(description='ability', index=14, options=('Underwater breathing', 'Teleportation', 'Telekinesis', 'En…"
      ]
     },
     "metadata": {},
     "output_type": "display_data"
    }
   ],
   "source": [
    "# 빈 리스트 생성\n",
    "abilities_list = []\n",
    "\n",
    "for i in range(10, len(final_data.columns)):\n",
    "    abilities_list.append(final_data.columns[i])\n",
    "\n",
    "# print(abilities_list)    # 리스트 내용 확인하기 -> options\n",
    "\n",
    "ability_dropdown = widgets.Dropdown(options=abilities_list, description='ability', disabled=False)\n",
    "display(ability_dropdown)\n",
    "\n",
    "def filter_heroes(ability):\n",
    "    filtered_heroes = final_data[final_data[ability] == True]\n",
    "    clear_output(wait=True)\n",
    "    display(ability_dropdown)\n",
    "    print(filtered_heroes['name'])\n",
    "\n",
    "ability_dropdown.observe(lambda change: filter_heroes(change.new), names='value')"
   ]
  }
 ],
 "metadata": {
  "kernelspec": {
   "display_name": "Python 3",
   "language": "python",
   "name": "python3"
  },
  "language_info": {
   "codemirror_mode": {
    "name": "ipython",
    "version": 3
   },
   "file_extension": ".py",
   "mimetype": "text/x-python",
   "name": "python",
   "nbconvert_exporter": "python",
   "pygments_lexer": "ipython3",
   "version": "3.12.8"
  }
 },
 "nbformat": 4,
 "nbformat_minor": 2
}
